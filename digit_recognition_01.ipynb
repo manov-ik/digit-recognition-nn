{
 "cells": [
  {
   "cell_type": "code",
   "execution_count": 1,
   "metadata": {},
   "outputs": [],
   "source": [
    "import numpy as np\n",
    "import pandas as pd\n",
    "import matplotlib.pyplot as plt"
   ]
  },
  {
   "cell_type": "code",
   "execution_count": 2,
   "metadata": {},
   "outputs": [],
   "source": [
    "data = pd.read_csv(\"Dataset/train.csv\")"
   ]
  },
  {
   "cell_type": "code",
   "execution_count": 3,
   "metadata": {},
   "outputs": [
    {
     "data": {
      "text/html": [
       "<div>\n",
       "<style scoped>\n",
       "    .dataframe tbody tr th:only-of-type {\n",
       "        vertical-align: middle;\n",
       "    }\n",
       "\n",
       "    .dataframe tbody tr th {\n",
       "        vertical-align: top;\n",
       "    }\n",
       "\n",
       "    .dataframe thead th {\n",
       "        text-align: right;\n",
       "    }\n",
       "</style>\n",
       "<table border=\"1\" class=\"dataframe\">\n",
       "  <thead>\n",
       "    <tr style=\"text-align: right;\">\n",
       "      <th></th>\n",
       "      <th>label</th>\n",
       "      <th>pixel0</th>\n",
       "      <th>pixel1</th>\n",
       "      <th>pixel2</th>\n",
       "      <th>pixel3</th>\n",
       "      <th>pixel4</th>\n",
       "      <th>pixel5</th>\n",
       "      <th>pixel6</th>\n",
       "      <th>pixel7</th>\n",
       "      <th>pixel8</th>\n",
       "      <th>...</th>\n",
       "      <th>pixel774</th>\n",
       "      <th>pixel775</th>\n",
       "      <th>pixel776</th>\n",
       "      <th>pixel777</th>\n",
       "      <th>pixel778</th>\n",
       "      <th>pixel779</th>\n",
       "      <th>pixel780</th>\n",
       "      <th>pixel781</th>\n",
       "      <th>pixel782</th>\n",
       "      <th>pixel783</th>\n",
       "    </tr>\n",
       "  </thead>\n",
       "  <tbody>\n",
       "    <tr>\n",
       "      <th>0</th>\n",
       "      <td>1</td>\n",
       "      <td>0</td>\n",
       "      <td>0</td>\n",
       "      <td>0</td>\n",
       "      <td>0</td>\n",
       "      <td>0</td>\n",
       "      <td>0</td>\n",
       "      <td>0</td>\n",
       "      <td>0</td>\n",
       "      <td>0</td>\n",
       "      <td>...</td>\n",
       "      <td>0</td>\n",
       "      <td>0</td>\n",
       "      <td>0</td>\n",
       "      <td>0</td>\n",
       "      <td>0</td>\n",
       "      <td>0</td>\n",
       "      <td>0</td>\n",
       "      <td>0</td>\n",
       "      <td>0</td>\n",
       "      <td>0</td>\n",
       "    </tr>\n",
       "    <tr>\n",
       "      <th>1</th>\n",
       "      <td>0</td>\n",
       "      <td>0</td>\n",
       "      <td>0</td>\n",
       "      <td>0</td>\n",
       "      <td>0</td>\n",
       "      <td>0</td>\n",
       "      <td>0</td>\n",
       "      <td>0</td>\n",
       "      <td>0</td>\n",
       "      <td>0</td>\n",
       "      <td>...</td>\n",
       "      <td>0</td>\n",
       "      <td>0</td>\n",
       "      <td>0</td>\n",
       "      <td>0</td>\n",
       "      <td>0</td>\n",
       "      <td>0</td>\n",
       "      <td>0</td>\n",
       "      <td>0</td>\n",
       "      <td>0</td>\n",
       "      <td>0</td>\n",
       "    </tr>\n",
       "    <tr>\n",
       "      <th>2</th>\n",
       "      <td>1</td>\n",
       "      <td>0</td>\n",
       "      <td>0</td>\n",
       "      <td>0</td>\n",
       "      <td>0</td>\n",
       "      <td>0</td>\n",
       "      <td>0</td>\n",
       "      <td>0</td>\n",
       "      <td>0</td>\n",
       "      <td>0</td>\n",
       "      <td>...</td>\n",
       "      <td>0</td>\n",
       "      <td>0</td>\n",
       "      <td>0</td>\n",
       "      <td>0</td>\n",
       "      <td>0</td>\n",
       "      <td>0</td>\n",
       "      <td>0</td>\n",
       "      <td>0</td>\n",
       "      <td>0</td>\n",
       "      <td>0</td>\n",
       "    </tr>\n",
       "    <tr>\n",
       "      <th>3</th>\n",
       "      <td>4</td>\n",
       "      <td>0</td>\n",
       "      <td>0</td>\n",
       "      <td>0</td>\n",
       "      <td>0</td>\n",
       "      <td>0</td>\n",
       "      <td>0</td>\n",
       "      <td>0</td>\n",
       "      <td>0</td>\n",
       "      <td>0</td>\n",
       "      <td>...</td>\n",
       "      <td>0</td>\n",
       "      <td>0</td>\n",
       "      <td>0</td>\n",
       "      <td>0</td>\n",
       "      <td>0</td>\n",
       "      <td>0</td>\n",
       "      <td>0</td>\n",
       "      <td>0</td>\n",
       "      <td>0</td>\n",
       "      <td>0</td>\n",
       "    </tr>\n",
       "    <tr>\n",
       "      <th>4</th>\n",
       "      <td>0</td>\n",
       "      <td>0</td>\n",
       "      <td>0</td>\n",
       "      <td>0</td>\n",
       "      <td>0</td>\n",
       "      <td>0</td>\n",
       "      <td>0</td>\n",
       "      <td>0</td>\n",
       "      <td>0</td>\n",
       "      <td>0</td>\n",
       "      <td>...</td>\n",
       "      <td>0</td>\n",
       "      <td>0</td>\n",
       "      <td>0</td>\n",
       "      <td>0</td>\n",
       "      <td>0</td>\n",
       "      <td>0</td>\n",
       "      <td>0</td>\n",
       "      <td>0</td>\n",
       "      <td>0</td>\n",
       "      <td>0</td>\n",
       "    </tr>\n",
       "    <tr>\n",
       "      <th>5</th>\n",
       "      <td>0</td>\n",
       "      <td>0</td>\n",
       "      <td>0</td>\n",
       "      <td>0</td>\n",
       "      <td>0</td>\n",
       "      <td>0</td>\n",
       "      <td>0</td>\n",
       "      <td>0</td>\n",
       "      <td>0</td>\n",
       "      <td>0</td>\n",
       "      <td>...</td>\n",
       "      <td>0</td>\n",
       "      <td>0</td>\n",
       "      <td>0</td>\n",
       "      <td>0</td>\n",
       "      <td>0</td>\n",
       "      <td>0</td>\n",
       "      <td>0</td>\n",
       "      <td>0</td>\n",
       "      <td>0</td>\n",
       "      <td>0</td>\n",
       "    </tr>\n",
       "    <tr>\n",
       "      <th>6</th>\n",
       "      <td>7</td>\n",
       "      <td>0</td>\n",
       "      <td>0</td>\n",
       "      <td>0</td>\n",
       "      <td>0</td>\n",
       "      <td>0</td>\n",
       "      <td>0</td>\n",
       "      <td>0</td>\n",
       "      <td>0</td>\n",
       "      <td>0</td>\n",
       "      <td>...</td>\n",
       "      <td>0</td>\n",
       "      <td>0</td>\n",
       "      <td>0</td>\n",
       "      <td>0</td>\n",
       "      <td>0</td>\n",
       "      <td>0</td>\n",
       "      <td>0</td>\n",
       "      <td>0</td>\n",
       "      <td>0</td>\n",
       "      <td>0</td>\n",
       "    </tr>\n",
       "    <tr>\n",
       "      <th>7</th>\n",
       "      <td>3</td>\n",
       "      <td>0</td>\n",
       "      <td>0</td>\n",
       "      <td>0</td>\n",
       "      <td>0</td>\n",
       "      <td>0</td>\n",
       "      <td>0</td>\n",
       "      <td>0</td>\n",
       "      <td>0</td>\n",
       "      <td>0</td>\n",
       "      <td>...</td>\n",
       "      <td>0</td>\n",
       "      <td>0</td>\n",
       "      <td>0</td>\n",
       "      <td>0</td>\n",
       "      <td>0</td>\n",
       "      <td>0</td>\n",
       "      <td>0</td>\n",
       "      <td>0</td>\n",
       "      <td>0</td>\n",
       "      <td>0</td>\n",
       "    </tr>\n",
       "    <tr>\n",
       "      <th>8</th>\n",
       "      <td>5</td>\n",
       "      <td>0</td>\n",
       "      <td>0</td>\n",
       "      <td>0</td>\n",
       "      <td>0</td>\n",
       "      <td>0</td>\n",
       "      <td>0</td>\n",
       "      <td>0</td>\n",
       "      <td>0</td>\n",
       "      <td>0</td>\n",
       "      <td>...</td>\n",
       "      <td>0</td>\n",
       "      <td>0</td>\n",
       "      <td>0</td>\n",
       "      <td>0</td>\n",
       "      <td>0</td>\n",
       "      <td>0</td>\n",
       "      <td>0</td>\n",
       "      <td>0</td>\n",
       "      <td>0</td>\n",
       "      <td>0</td>\n",
       "    </tr>\n",
       "    <tr>\n",
       "      <th>9</th>\n",
       "      <td>3</td>\n",
       "      <td>0</td>\n",
       "      <td>0</td>\n",
       "      <td>0</td>\n",
       "      <td>0</td>\n",
       "      <td>0</td>\n",
       "      <td>0</td>\n",
       "      <td>0</td>\n",
       "      <td>0</td>\n",
       "      <td>0</td>\n",
       "      <td>...</td>\n",
       "      <td>0</td>\n",
       "      <td>0</td>\n",
       "      <td>0</td>\n",
       "      <td>0</td>\n",
       "      <td>0</td>\n",
       "      <td>0</td>\n",
       "      <td>0</td>\n",
       "      <td>0</td>\n",
       "      <td>0</td>\n",
       "      <td>0</td>\n",
       "    </tr>\n",
       "  </tbody>\n",
       "</table>\n",
       "<p>10 rows × 785 columns</p>\n",
       "</div>"
      ],
      "text/plain": [
       "   label  pixel0  pixel1  pixel2  pixel3  pixel4  pixel5  pixel6  pixel7  \\\n",
       "0      1       0       0       0       0       0       0       0       0   \n",
       "1      0       0       0       0       0       0       0       0       0   \n",
       "2      1       0       0       0       0       0       0       0       0   \n",
       "3      4       0       0       0       0       0       0       0       0   \n",
       "4      0       0       0       0       0       0       0       0       0   \n",
       "5      0       0       0       0       0       0       0       0       0   \n",
       "6      7       0       0       0       0       0       0       0       0   \n",
       "7      3       0       0       0       0       0       0       0       0   \n",
       "8      5       0       0       0       0       0       0       0       0   \n",
       "9      3       0       0       0       0       0       0       0       0   \n",
       "\n",
       "   pixel8  ...  pixel774  pixel775  pixel776  pixel777  pixel778  pixel779  \\\n",
       "0       0  ...         0         0         0         0         0         0   \n",
       "1       0  ...         0         0         0         0         0         0   \n",
       "2       0  ...         0         0         0         0         0         0   \n",
       "3       0  ...         0         0         0         0         0         0   \n",
       "4       0  ...         0         0         0         0         0         0   \n",
       "5       0  ...         0         0         0         0         0         0   \n",
       "6       0  ...         0         0         0         0         0         0   \n",
       "7       0  ...         0         0         0         0         0         0   \n",
       "8       0  ...         0         0         0         0         0         0   \n",
       "9       0  ...         0         0         0         0         0         0   \n",
       "\n",
       "   pixel780  pixel781  pixel782  pixel783  \n",
       "0         0         0         0         0  \n",
       "1         0         0         0         0  \n",
       "2         0         0         0         0  \n",
       "3         0         0         0         0  \n",
       "4         0         0         0         0  \n",
       "5         0         0         0         0  \n",
       "6         0         0         0         0  \n",
       "7         0         0         0         0  \n",
       "8         0         0         0         0  \n",
       "9         0         0         0         0  \n",
       "\n",
       "[10 rows x 785 columns]"
      ]
     },
     "execution_count": 3,
     "metadata": {},
     "output_type": "execute_result"
    }
   ],
   "source": [
    "data.head(10)"
   ]
  },
  {
   "cell_type": "code",
   "execution_count": 4,
   "metadata": {},
   "outputs": [],
   "source": [
    "data = np.array(data)"
   ]
  },
  {
   "cell_type": "code",
   "execution_count": 5,
   "metadata": {},
   "outputs": [],
   "source": [
    "m,n=data.shape\n",
    "np.random.shuffle(data)\n",
    "\n",
    "data_dev= data[0:1000].T\n",
    "Y_dev=data_dev[0]\n",
    "X_dev=data_dev[1:n]\n",
    "X_dev=X_dev/255\n",
    "\n",
    "data_train=data[1000:m].T\n",
    "Y_train=data_train[0]\n",
    "X_train=data_train[1:n]\n",
    "X_train=X_train/255\n",
    "_,m_train = X_train.shape"
   ]
  },
  {
   "cell_type": "code",
   "execution_count": 6,
   "metadata": {},
   "outputs": [
    {
     "data": {
      "text/plain": [
       "(784,)"
      ]
     },
     "execution_count": 6,
     "metadata": {},
     "output_type": "execute_result"
    }
   ],
   "source": [
    "X_train[:,0].shape"
   ]
  },
  {
   "cell_type": "code",
   "execution_count": 7,
   "metadata": {},
   "outputs": [],
   "source": [
    "def init_params():\n",
    "    w1 = np.random.rand(10, 784) - 0.5\n",
    "    b1 = np.random.rand(10, 1) - 0.5\n",
    "    w2 = np.random.rand(10, 10) - 0.5\n",
    "    b2 = np.random.rand(10, 1) - 0.5\n",
    "    return w1, b1, w2, b2\n"
   ]
  },
  {
   "cell_type": "code",
   "execution_count": 8,
   "metadata": {},
   "outputs": [],
   "source": [
    "def ReLU(z):\n",
    "    return np.maximum(z,0)\n",
    "\n",
    "def softmax(Z):\n",
    "    return (np.exp(Z) / sum(np.exp(Z)))\n"
   ]
  },
  {
   "cell_type": "code",
   "execution_count": 9,
   "metadata": {},
   "outputs": [],
   "source": [
    "def forward_prop(w1,b1,w2,b2,x):\n",
    "    z1=w1.dot(x)+b1\n",
    "    a1=ReLU(z1)\n",
    "    z2=w2.dot(a1)+b2\n",
    "    a2=softmax(z2)\n",
    "    \n",
    "    return z1,a1,z2,a2\n",
    "\n",
    "def one_hot(y):\n",
    "    one_hot_y=np.zeros((y.size,y.max()+1))\n",
    "    one_hot_y[np.arange(y.size),y]=1\n",
    "    one_hot_y=one_hot_y.T\n",
    "    \n",
    "    return one_hot_y\n",
    "\n",
    "def deriv_ReLU(z):\n",
    "    return z > 0\n",
    "    \n",
    "def back_prop(z1,a1,z2,a2,w1,w2,x,y):\n",
    "    one_hot_y=one_hot(y)\n",
    "    dz2=a2-one_hot_y\n",
    "    dw2=1/m*dz2.dot(a1.T)\n",
    "    db2=1/m*np.sum(dz2)\n",
    "    dz1=(w2.T).dot(dz2) * deriv_ReLU(z1)\n",
    "    dw1=1/m*dz1.dot(x.T)\n",
    "    db1=1/m*np.sum(dz1)\n",
    "    \n",
    "    return dw1,db1,dw2,db2\n",
    "\n",
    "def update_para(w1,b1,w2,b2,dw1,db1,dw2,db2,alpha):\n",
    "    w1=w1-alpha*dw1\n",
    "    b1=b1-alpha*db1\n",
    "    w2=w2-alpha*dw2\n",
    "    b2=b2-alpha*db2\n",
    "    \n",
    "    return w1,b1,w2,b2"
   ]
  },
  {
   "cell_type": "code",
   "execution_count": 10,
   "metadata": {},
   "outputs": [],
   "source": [
    "def get_perdic(a2):\n",
    "    return np.argmax(a2,0)\n",
    "\n",
    "def get_accu(predic,y):\n",
    "    return np.sum(predic==y)/y.size\n",
    "\n",
    "\n",
    "def gradient_desent(x,y,alpha,iterations):\n",
    "    w1,b1,w2,b2=init_params()\n",
    "    for i in range(iterations):\n",
    "        z1,a1,z2,a2=forward_prop(w1,b1,w2,b2,x)\n",
    "        dw1,db1,dw2,db2=back_prop(z1,a1,z2,a2,w1,w2,x,y)\n",
    "        w1,b1,w2,b2=update_para(w1,b1,w2,b2,dw1,db1,dw2,db2,alpha)\n",
    "        if i%10==0:\n",
    "            print(\"iterations :\",i)\n",
    "            print(\"Accuracy :\",get_accu(get_perdic(a2),y))\n",
    "    return w1,b1,w2,b2"
   ]
  },
  {
   "cell_type": "code",
   "execution_count": 11,
   "metadata": {},
   "outputs": [
    {
     "name": "stdout",
     "output_type": "stream",
     "text": [
      "iterations : 0\n",
      "Accuracy : 0.0908780487804878\n",
      "iterations : 10\n",
      "Accuracy : 0.10729268292682927\n",
      "iterations : 20\n",
      "Accuracy : 0.13397560975609757\n",
      "iterations : 30\n",
      "Accuracy : 0.1983658536585366\n",
      "iterations : 40\n",
      "Accuracy : 0.2299268292682927\n",
      "iterations : 50\n",
      "Accuracy : 0.24958536585365854\n",
      "iterations : 60\n",
      "Accuracy : 0.26078048780487806\n",
      "iterations : 70\n",
      "Accuracy : 0.27258536585365856\n",
      "iterations : 80\n",
      "Accuracy : 0.282\n",
      "iterations : 90\n",
      "Accuracy : 0.293390243902439\n",
      "iterations : 100\n",
      "Accuracy : 0.308\n",
      "iterations : 110\n",
      "Accuracy : 0.32434146341463416\n",
      "iterations : 120\n",
      "Accuracy : 0.34448780487804875\n",
      "iterations : 130\n",
      "Accuracy : 0.37441463414634146\n",
      "iterations : 140\n",
      "Accuracy : 0.4137560975609756\n",
      "iterations : 150\n",
      "Accuracy : 0.4504878048780488\n",
      "iterations : 160\n",
      "Accuracy : 0.48085365853658535\n",
      "iterations : 170\n",
      "Accuracy : 0.5064146341463415\n",
      "iterations : 180\n",
      "Accuracy : 0.5298048780487805\n",
      "iterations : 190\n",
      "Accuracy : 0.550439024390244\n",
      "iterations : 200\n",
      "Accuracy : 0.5686097560975609\n",
      "iterations : 210\n",
      "Accuracy : 0.5849756097560975\n",
      "iterations : 220\n",
      "Accuracy : 0.598780487804878\n",
      "iterations : 230\n",
      "Accuracy : 0.6124390243902439\n",
      "iterations : 240\n",
      "Accuracy : 0.6247073170731707\n",
      "iterations : 250\n",
      "Accuracy : 0.6352926829268293\n",
      "iterations : 260\n",
      "Accuracy : 0.6450975609756098\n",
      "iterations : 270\n",
      "Accuracy : 0.6544146341463415\n",
      "iterations : 280\n",
      "Accuracy : 0.6627560975609756\n",
      "iterations : 290\n",
      "Accuracy : 0.671609756097561\n",
      "iterations : 300\n",
      "Accuracy : 0.6786585365853659\n",
      "iterations : 310\n",
      "Accuracy : 0.685439024390244\n",
      "iterations : 320\n",
      "Accuracy : 0.6921951219512195\n",
      "iterations : 330\n",
      "Accuracy : 0.6976829268292682\n",
      "iterations : 340\n",
      "Accuracy : 0.7032682926829268\n",
      "iterations : 350\n",
      "Accuracy : 0.7088048780487805\n",
      "iterations : 360\n",
      "Accuracy : 0.7138292682926829\n",
      "iterations : 370\n",
      "Accuracy : 0.7184878048780488\n",
      "iterations : 380\n",
      "Accuracy : 0.722609756097561\n",
      "iterations : 390\n",
      "Accuracy : 0.7267560975609756\n",
      "iterations : 400\n",
      "Accuracy : 0.7307317073170732\n",
      "iterations : 410\n",
      "Accuracy : 0.7346829268292683\n",
      "iterations : 420\n",
      "Accuracy : 0.7384878048780488\n",
      "iterations : 430\n",
      "Accuracy : 0.7423170731707317\n",
      "iterations : 440\n",
      "Accuracy : 0.7459268292682927\n",
      "iterations : 450\n",
      "Accuracy : 0.7491707317073171\n",
      "iterations : 460\n",
      "Accuracy : 0.7527073170731707\n",
      "iterations : 470\n",
      "Accuracy : 0.7553414634146342\n",
      "iterations : 480\n",
      "Accuracy : 0.7581951219512195\n",
      "iterations : 490\n",
      "Accuracy : 0.7613170731707317\n",
      "iterations : 500\n",
      "Accuracy : 0.764390243902439\n",
      "iterations : 510\n",
      "Accuracy : 0.7671707317073171\n",
      "iterations : 520\n",
      "Accuracy : 0.7696341463414634\n",
      "iterations : 530\n",
      "Accuracy : 0.7722439024390244\n",
      "iterations : 540\n",
      "Accuracy : 0.7749512195121951\n",
      "iterations : 550\n",
      "Accuracy : 0.776829268292683\n",
      "iterations : 560\n",
      "Accuracy : 0.7785853658536586\n",
      "iterations : 570\n",
      "Accuracy : 0.7803170731707317\n",
      "iterations : 580\n",
      "Accuracy : 0.7829268292682927\n",
      "iterations : 590\n",
      "Accuracy : 0.7850975609756098\n",
      "iterations : 600\n",
      "Accuracy : 0.7867804878048781\n",
      "iterations : 610\n",
      "Accuracy : 0.788609756097561\n",
      "iterations : 620\n",
      "Accuracy : 0.7905121951219513\n",
      "iterations : 630\n",
      "Accuracy : 0.7918536585365854\n",
      "iterations : 640\n",
      "Accuracy : 0.7935853658536586\n",
      "iterations : 650\n",
      "Accuracy : 0.7952439024390244\n",
      "iterations : 660\n",
      "Accuracy : 0.7966829268292683\n",
      "iterations : 670\n",
      "Accuracy : 0.7983414634146342\n",
      "iterations : 680\n",
      "Accuracy : 0.7996341463414635\n",
      "iterations : 690\n",
      "Accuracy : 0.8011707317073171\n",
      "iterations : 700\n",
      "Accuracy : 0.8026829268292683\n",
      "iterations : 710\n",
      "Accuracy : 0.8043170731707318\n",
      "iterations : 720\n",
      "Accuracy : 0.806\n",
      "iterations : 730\n",
      "Accuracy : 0.8074634146341464\n",
      "iterations : 740\n",
      "Accuracy : 0.8087073170731708\n",
      "iterations : 750\n",
      "Accuracy : 0.8097073170731708\n",
      "iterations : 760\n",
      "Accuracy : 0.8107073170731708\n",
      "iterations : 770\n",
      "Accuracy : 0.8122926829268293\n",
      "iterations : 780\n",
      "Accuracy : 0.8135853658536585\n",
      "iterations : 790\n",
      "Accuracy : 0.8145853658536585\n",
      "iterations : 800\n",
      "Accuracy : 0.8156829268292682\n",
      "iterations : 810\n",
      "Accuracy : 0.8166585365853658\n",
      "iterations : 820\n",
      "Accuracy : 0.8174878048780487\n",
      "iterations : 830\n",
      "Accuracy : 0.8184146341463414\n",
      "iterations : 840\n",
      "Accuracy : 0.8193170731707317\n",
      "iterations : 850\n",
      "Accuracy : 0.8205121951219512\n",
      "iterations : 860\n",
      "Accuracy : 0.8214146341463414\n",
      "iterations : 870\n",
      "Accuracy : 0.822\n",
      "iterations : 880\n",
      "Accuracy : 0.822780487804878\n",
      "iterations : 890\n",
      "Accuracy : 0.8239024390243902\n",
      "iterations : 900\n",
      "Accuracy : 0.8249024390243902\n",
      "iterations : 910\n",
      "Accuracy : 0.8259268292682926\n",
      "iterations : 920\n",
      "Accuracy : 0.8268292682926829\n",
      "iterations : 930\n",
      "Accuracy : 0.8278048780487804\n",
      "iterations : 940\n",
      "Accuracy : 0.8285853658536585\n",
      "iterations : 950\n",
      "Accuracy : 0.8293170731707317\n",
      "iterations : 960\n",
      "Accuracy : 0.8301463414634146\n",
      "iterations : 970\n",
      "Accuracy : 0.8310731707317073\n",
      "iterations : 980\n",
      "Accuracy : 0.8316097560975609\n",
      "iterations : 990\n",
      "Accuracy : 0.8322195121951219\n"
     ]
    }
   ],
   "source": [
    "w1,b1,w2,b2=gradient_desent(X_train,Y_train,0.05,1000)"
   ]
  },
  {
   "cell_type": "code",
   "execution_count": 12,
   "metadata": {},
   "outputs": [],
   "source": [
    "def make_pradic(x,w1,b1,w2,b2):\n",
    "    _,_,_,a2=forward_prop(w1,b1,w2,b2,x)\n",
    "    predic=get_perdic(a2)\n",
    "    return predic\n",
    "\n",
    "def test_presic(index,w1,b1,w2,b2):\n",
    "    current_img=X_train[:,index,None]\n",
    "    predic=make_pradic(current_img,w1,b1,w2,b2)\n",
    "    label=Y_train[index]\n",
    "    print(\"Prediction :\",predic)\n",
    "    print(\"Label :\",label)\n",
    "    \n",
    "    current_img=current_img.reshape((28,28))*255\n",
    "    plt.gray()\n",
    "    plt.imshow(current_img,interpolation=\"nearest\")\n",
    "    plt.show()"
   ]
  },
  {
   "cell_type": "code",
   "execution_count": 13,
   "metadata": {},
   "outputs": [
    {
     "name": "stdout",
     "output_type": "stream",
     "text": [
      "Prediction : [0]\n",
      "Label : 0\n"
     ]
    },
    {
     "data": {
      "image/png": "[encoded data removed]",
      "text/plain": [
       "<Figure size 640x480 with 1 Axes>"
      ]
     },
     "metadata": {},
     "output_type": "display_data"
    }
   ],
   "source": [
    "test_presic(3455,w1,b1,w2,b2)"
   ]
  },
  {
   "cell_type": "code",
   "execution_count": 14,
   "metadata": {},
   "outputs": [
    {
     "name": "stdout",
     "output_type": "stream",
     "text": [
      "range(0, 40999)\n"
     ]
    }
   ],
   "source": [
    "a=range(0,40999)\n",
    "print(a)"
   ]
  },
  {
   "cell_type": "code",
   "execution_count": 15,
   "metadata": {},
   "outputs": [
    {
     "name": "stdout",
     "output_type": "stream",
     "text": [
      "[[ 0.33926695 -0.17165701  0.48801941 ... -0.07390591  0.22578402\n",
      "   0.42361269]\n",
      " [-0.11478074  0.33255945 -0.06899917 ...  0.47425868 -0.26684705\n",
      "   0.0888296 ]\n",
      " [-0.26309681  0.35375426  0.37417263 ... -0.23929562  0.12009242\n",
      "   0.30820181]\n",
      " ...\n",
      " [ 0.15222127  0.36151433  0.34942704 ... -0.44270645  0.48973464\n",
      "  -0.42811958]\n",
      " [-0.17533694  0.47755249 -0.28899826 ...  0.00898005  0.1546435\n",
      "  -0.3061585 ]\n",
      " [-0.16157041  0.11337078  0.01384792 ... -0.42075306  0.01543373\n",
      "  -0.02765939]] /n [[0.46671728]\n",
      " [0.30793257]\n",
      " [0.38522133]\n",
      " [0.17988873]\n",
      " [0.70645543]\n",
      " [0.4575204 ]\n",
      " [0.26304249]\n",
      " [0.63274855]\n",
      " [0.67502101]\n",
      " [0.32467327]] /n [[ 0.09432239 -0.54436663 -0.51817052  0.0451856   0.62140893 -0.33349284\n",
      "  -0.076708    0.08995487  0.17945091  0.71776925]\n",
      " [-0.13107855 -0.5646072   0.84305284 -0.27509716 -0.64833694 -0.20526022\n",
      "   0.28693674 -0.18554991  0.0591883  -0.39023423]\n",
      " [ 0.29027225 -0.31314838  0.32839936 -0.30354669  0.47518545  0.47059234\n",
      "  -0.27019138  0.11490595  0.33060719 -0.13627623]\n",
      " [ 0.29634258 -0.55259847  0.15170348  0.64092454  0.06785222  0.15602072\n",
      "  -0.07221205  0.12330486  0.22054597 -0.42489634]\n",
      " [ 0.18390309  0.77589366 -0.55481103 -0.22637729  0.02817008 -0.40746337\n",
      "  -0.08160824  0.30155236 -0.08340639 -0.37921001]\n",
      " [-0.17154836 -0.32765274 -0.30572961  0.54365218  0.49042479 -0.43250585\n",
      "   0.08829433  1.03307018  0.10737275 -0.21438187]\n",
      " [ 0.09730427  0.03531881 -0.32168845 -0.5690407   0.99599348 -0.2129428\n",
      "   0.36750139 -0.17577069 -0.40025032 -0.41817697]\n",
      " [-0.29557072 -0.25986814 -0.30937218  0.28535052 -0.58998563  0.76556029\n",
      "  -0.17725067  0.73222136  0.3758173   0.39038864]\n",
      " [-0.01553765  0.13682072  0.17611411  0.20097551  0.08405805 -0.51305283\n",
      "   0.37442827  0.14849176  0.28419893  0.02936058]\n",
      " [-0.28988486  0.30401952 -0.46466049  0.35710198 -0.30023616  0.31646344\n",
      "   0.2096416   0.40895647  0.04582026 -0.16877711]] /n [[ 0.34445532]\n",
      " [ 0.22915416]\n",
      " [-0.39640156]\n",
      " [ 0.01417734]\n",
      " [-0.15071415]\n",
      " [-0.12667336]\n",
      " [-0.20160526]\n",
      " [ 0.34505109]\n",
      " [ 0.23104136]\n",
      " [ 0.31456089]]\n"
     ]
    }
   ],
   "source": [
    "print(w1,'/n',b1,'/n',w2,'/n',b2)"
   ]
  },
  {
   "cell_type": "code",
   "execution_count": 16,
   "metadata": {},
   "outputs": [
    {
     "name": "stdout",
     "output_type": "stream",
     "text": [
      "4720\n",
      "Prediction : [9]\n",
      "Label : 9\n"
     ]
    },
    {
     "data": {
      "image/png": "[encoded data removed]",
      "text/plain": [
       "<Figure size 640x480 with 1 Axes>"
      ]
     },
     "metadata": {},
     "output_type": "display_data"
    },
    {
     "name": "stdout",
     "output_type": "stream",
     "text": [
      "20561\n",
      "Prediction : [2]\n",
      "Label : 8\n"
     ]
    },
    {
     "data": {
      "image/png": "[encoded data removed]",
      "text/plain": [
       "<Figure size 640x480 with 1 Axes>"
      ]
     },
     "metadata": {},
     "output_type": "display_data"
    },
    {
     "name": "stdout",
     "output_type": "stream",
     "text": [
      "16272\n",
      "Prediction : [7]\n",
      "Label : 2\n"
     ]
    },
    {
     "data": {
      "image/png": "[encoded data removed]",
      "text/plain": [
       "<Figure size 640x480 with 1 Axes>"
      ]
     },
     "metadata": {},
     "output_type": "display_data"
    },
    {
     "name": "stdout",
     "output_type": "stream",
     "text": [
      "15230\n",
      "Prediction : [3]\n",
      "Label : 3\n"
     ]
    },
    {
     "data": {
      "image/png": "[encoded data removed]",
      "text/plain": [
       "<Figure size 640x480 with 1 Axes>"
      ]
     },
     "metadata": {},
     "output_type": "display_data"
    },
    {
     "name": "stdout",
     "output_type": "stream",
     "text": [
      "16223\n",
      "Prediction : [7]\n",
      "Label : 7\n"
     ]
    },
    {
     "data": {
      "image/png": "[encoded data removed]",
      "text/plain": [
       "<Figure size 640x480 with 1 Axes>"
      ]
     },
     "metadata": {},
     "output_type": "display_data"
    },
    {
     "name": "stdout",
     "output_type": "stream",
     "text": [
      "5223\n",
      "Prediction : [7]\n",
      "Label : 7\n"
     ]
    },
    {
     "data": {
      "image/png": "[encoded data removed]",
      "text/plain": [
       "<Figure size 640x480 with 1 Axes>"
      ]
     },
     "metadata": {},
     "output_type": "display_data"
    },
    {
     "name": "stdout",
     "output_type": "stream",
     "text": [
      "5268\n",
      "Prediction : [9]\n",
      "Label : 9\n"
     ]
    },
    {
     "data": {
      "image/png": "[encoded data removed]",
      "text/plain": [
       "<Figure size 640x480 with 1 Axes>"
      ]
     },
     "metadata": {},
     "output_type": "display_data"
    },
    {
     "name": "stdout",
     "output_type": "stream",
     "text": [
      "9431\n",
      "Prediction : [1]\n",
      "Label : 1\n"
     ]
    },
    {
     "data": {
      "image/png": "[encoded data removed]",
      "text/plain": [
       "<Figure size 640x480 with 1 Axes>"
      ]
     },
     "metadata": {},
     "output_type": "display_data"
    },
    {
     "name": "stdout",
     "output_type": "stream",
     "text": [
      "28081\n",
      "Prediction : [5]\n",
      "Label : 5\n"
     ]
    },
    {
     "data": {
      "image/png": "[encoded data removed]",
      "text/plain": [
       "<Figure size 640x480 with 1 Axes>"
      ]
     },
     "metadata": {},
     "output_type": "display_data"
    },
    {
     "name": "stdout",
     "output_type": "stream",
     "text": [
      "11464\n",
      "Prediction : [7]\n",
      "Label : 7\n"
     ]
    },
    {
     "data": {
      "image/png": "[encoded data removed]",
      "text/plain": [
       "<Figure size 640x480 with 1 Axes>"
      ]
     },
     "metadata": {},
     "output_type": "display_data"
    },
    {
     "name": "stdout",
     "output_type": "stream",
     "text": [
      "33350\n",
      "Prediction : [1]\n",
      "Label : 1\n"
     ]
    },
    {
     "data": {
      "image/png": "[encoded data removed]",
      "text/plain": [
       "<Figure size 640x480 with 1 Axes>"
      ]
     },
     "metadata": {},
     "output_type": "display_data"
    },
    {
     "name": "stdout",
     "output_type": "stream",
     "text": [
      "3233\n",
      "Prediction : [3]\n",
      "Label : 5\n"
     ]
    },
    {
     "data": {
      "image/png": "[encoded data removed]",
      "text/plain": [
       "<Figure size 640x480 with 1 Axes>"
      ]
     },
     "metadata": {},
     "output_type": "display_data"
    },
    {
     "name": "stdout",
     "output_type": "stream",
     "text": [
      "18894\n",
      "Prediction : [6]\n",
      "Label : 6\n"
     ]
    },
    {
     "data": {
      "image/png": "[encoded data removed]",
      "text/plain": [
       "<Figure size 640x480 with 1 Axes>"
      ]
     },
     "metadata": {},
     "output_type": "display_data"
    },
    {
     "name": "stdout",
     "output_type": "stream",
     "text": [
      "17739\n",
      "Prediction : [0]\n",
      "Label : 0\n"
     ]
    },
    {
     "data": {
      "image/png": "[encoded data removed]",
      "text/plain": [
       "<Figure size 640x480 with 1 Axes>"
      ]
     },
     "metadata": {},
     "output_type": "display_data"
    },
    {
     "name": "stdout",
     "output_type": "stream",
     "text": [
      "32464\n",
      "Prediction : [7]\n",
      "Label : 7\n"
     ]
    },
    {
     "data": {
      "image/png": "[encoded data removed]",
      "text/plain": [
       "<Figure size 640x480 with 1 Axes>"
      ]
     },
     "metadata": {},
     "output_type": "display_data"
    }
   ],
   "source": [
    "import random\n",
    " \n",
    "\n",
    "for i in range(0, 15):\n",
    "     y = random.randrange(40999)\n",
    "     print(y)\n",
    "     test_presic(y,w1,b1,w2,b2)"
   ]
  },
  {
   "cell_type": "code",
   "execution_count": 17,
   "metadata": {},
   "outputs": [
    {
     "data": {
      "text/plain": [
       "0.836"
      ]
     },
     "execution_count": 17,
     "metadata": {},
     "output_type": "execute_result"
    }
   ],
   "source": [
    "dev_predic=make_pradic(X_dev,w1,b1,w2,b2)\n",
    "get_accu(dev_predic,Y_dev)"
   ]
  }
 ],
 "metadata": {
  "kernelspec": {
   "display_name": "Python 3",
   "language": "python",
   "name": "python3"
  },
  "language_info": {
   "codemirror_mode": {
    "name": "ipython",
    "version": 3
   },
   "file_extension": ".py",
   "mimetype": "text/x-python",
   "name": "python",
   "nbconvert_exporter": "python",
   "pygments_lexer": "ipython3",
   "version": "3.11.7"
  }
 },
 "nbformat": 4,
 "nbformat_minor": 2
}
